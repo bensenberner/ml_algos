{
 "cells": [
  {
   "cell_type": "code",
   "execution_count": 1,
   "id": "5341da0a-583d-4d64-8f7c-a8d2c6c5bf67",
   "metadata": {},
   "outputs": [
    {
     "name": "stdout",
     "output_type": "stream",
     "text": [
      "\u001b[2mAudited \u001b[1m1 package\u001b[0m \u001b[2min 54ms\u001b[0m\u001b[0m\n"
     ]
    }
   ],
   "source": [
    "!uv pip install matplotlib"
   ]
  },
  {
   "cell_type": "code",
   "execution_count": 7,
   "id": "dc99d541-5cda-44df-b87f-c134a0aa92e3",
   "metadata": {},
   "outputs": [],
   "source": [
    "from matplotlib import pyplot as plt\n",
    "import numpy as np"
   ]
  },
  {
   "cell_type": "code",
   "execution_count": null,
   "id": "ccb97152-134f-4843-bacb-a5c7d24296ee",
   "metadata": {},
   "outputs": [],
   "source": [
    "X = np.random.random((100, 2))"
   ]
  },
  {
   "cell_type": "code",
   "execution_count": null,
   "id": "628d78b6-ab96-4567-b79b-1ba40ad70b01",
   "metadata": {},
   "outputs": [],
   "source": [
    "def k_means(X: np.ndarray, k: int, min_movement_per_iter: float) -> np.array:\n",
    "    \"\"\"\n",
    "    Initializes random centroids which have the same coordinates as existing rows in X\n",
    "    then runs the expectation-maximization algorithm until the most that any centroid moves\n",
    "    across iterations is min_movement_per_iter\n",
    "    \"\"\"\n",
    "    m, _ = X.shape\n",
    "    assert k <= m, \"cannot have more centroids than there are points\"\n",
    "    # choosing centroids that are points ensures that each centroid is assigned to at least one point initially\n",
    "    init_centroid_idxes = np.random.choice(m, size=k, replace=False)\n",
    "    centroids = X[init_centroid_idxes]\n",
    "    while True:\n",
    "        X_to_centroid_dists = abs(X[..., None] - centroids.T).sum(axis=1) \n",
    "        closest_centroid_idxes = X_to_centroid_dists.argmin(axis=1) # (m,) -> for each point in X, find closest centroid idx in `centroids`\n",
    "        closest_centroid_one_hot = closest_centroid_idxes[:, None] == np.arange(k)[None, :] # (m, k) -> for each point, represent its centroid idx with one-hot vector of length k\n",
    "        # TODO: consider selecting the vals with indexing instead of multiplying by the mask\n",
    "        X_to_centroid = X[:,:,None] * closest_centroid_one_hot[:, None, :] # (m, 1, k) * (m, d, 1) = (m, d, k) where for each point p, if it's closest to centroid c, then selected_vals[p,:,c] = X[p, :], otherwise 0\n",
    "        centroid_sums = X_to_centroid.sum(axis=0).T # (k, d) -> for each of k clusters, sum across all points' embed dimensions\n",
    "        centroid_counts = closest_centroid_one_hot.sum(axis=0) # (k,) -> count how many points are in each cluster\n",
    "        if any(centroid_counts == 0):\n",
    "            raise Exception(\"At least one centroid was not assigned any points.\")\n",
    "        new_centroids = centroid_sums / centroid_counts[:, None]\n",
    "        max_amount_any_centroid_moved = max(abs(centroids - new_centroids).sum(axis=1))\n",
    "        if max_amount_any_centroid_moved < min_movement_per_iter:\n",
    "            centroids = new_centroids\n",
    "            break\n",
    "        centroids = new_centroids\n",
    "    return centroids"
   ]
  },
  {
   "cell_type": "code",
   "execution_count": 21,
   "id": "35e63cf2-54c6-456c-b63f-9fb5a7e35000",
   "metadata": {},
   "outputs": [],
   "source": [
    "means = k_means(X, 4, 1e-5)"
   ]
  },
  {
   "cell_type": "code",
   "execution_count": 22,
   "id": "1edaf940-5a48-4263-9e5d-e7aa4e069eae",
   "metadata": {},
   "outputs": [
    {
     "data": {
      "text/plain": [
       "<matplotlib.collections.PathCollection at 0x10799ec10>"
      ]
     },
     "execution_count": 22,
     "metadata": {},
     "output_type": "execute_result"
    },
    {
     "data": {
      "image/png": "[encoded data removed]",
      "text/plain": [
       "<Figure size 640x480 with 1 Axes>"
      ]
     },
     "metadata": {},
     "output_type": "display_data"
    }
   ],
   "source": [
    "plt.scatter(X[:, 0], X[:, 1], color='black')\n",
    "plt.scatter(means[:, 0], means[:, 1], color='red')"
   ]
  },
  {
   "cell_type": "code",
   "execution_count": null,
   "id": "6536756c",
   "metadata": {},
   "outputs": [],
   "source": []
  }
 ],
 "metadata": {
  "kernelspec": {
   "display_name": ".venv",
   "language": "python",
   "name": "python3"
  },
  "language_info": {
   "codemirror_mode": {
    "name": "ipython",
    "version": 3
   },
   "file_extension": ".py",
   "mimetype": "text/x-python",
   "name": "python",
   "nbconvert_exporter": "python",
   "pygments_lexer": "ipython3",
   "version": "3.13.2"
  }
 },
 "nbformat": 4,
 "nbformat_minor": 5
}
