{
 "cells": [
  {
   "cell_type": "code",
   "execution_count": 25,
   "id": "5341da0a-583d-4d64-8f7c-a8d2c6c5bf67",
   "metadata": {},
   "outputs": [
    {
     "name": "stdout",
     "output_type": "stream",
     "text": [
      "\u001b[2K\u001b[2mResolved \u001b[1m11 packages\u001b[0m \u001b[2min 221ms\u001b[0m\u001b[0m                                        \u001b[0m\n",
      "\u001b[2K\u001b[2mPrepared \u001b[1m5 packages\u001b[0m \u001b[2min 1.12s\u001b[0m\u001b[0m                                             \n",
      "\u001b[2K\u001b[2mInstalled \u001b[1m7 packages\u001b[0m \u001b[2min 33ms\u001b[0m\u001b[0m                                \u001b[0m\n",
      " \u001b[32m+\u001b[39m \u001b[1mcontourpy\u001b[0m\u001b[2m==1.3.2\u001b[0m\n",
      " \u001b[32m+\u001b[39m \u001b[1mcycler\u001b[0m\u001b[2m==0.12.1\u001b[0m\n",
      " \u001b[32m+\u001b[39m \u001b[1mfonttools\u001b[0m\u001b[2m==4.57.0\u001b[0m\n",
      " \u001b[32m+\u001b[39m \u001b[1mkiwisolver\u001b[0m\u001b[2m==1.4.8\u001b[0m\n",
      " \u001b[32m+\u001b[39m \u001b[1mmatplotlib\u001b[0m\u001b[2m==3.10.1\u001b[0m\n",
      " \u001b[32m+\u001b[39m \u001b[1mpillow\u001b[0m\u001b[2m==11.2.1\u001b[0m\n",
      " \u001b[32m+\u001b[39m \u001b[1mpyparsing\u001b[0m\u001b[2m==3.2.3\u001b[0m\n"
     ]
    }
   ],
   "source": [
    "!uv pip install matplotlib"
   ]
  },
  {
   "cell_type": "code",
   "execution_count": 26,
   "id": "dc99d541-5cda-44df-b87f-c134a0aa92e3",
   "metadata": {},
   "outputs": [],
   "source": [
    "from matplotlib import pyplot as plt"
   ]
  },
  {
   "cell_type": "code",
   "execution_count": 1,
   "id": "5dc88785-09a8-470f-b570-5eb69880b045",
   "metadata": {},
   "outputs": [],
   "source": [
    "import numpy as np"
   ]
  },
  {
   "cell_type": "code",
   "execution_count": null,
   "id": "ccb97152-134f-4843-bacb-a5c7d24296ee",
   "metadata": {},
   "outputs": [],
   "source": [
    "X = np.random.random(\n",
    "    (60, 2)\n",
    ")"
   ]
  },
  {
   "cell_type": "code",
   "execution_count": 123,
   "id": "628d78b6-ab96-4567-b79b-1ba40ad70b01",
   "metadata": {},
   "outputs": [],
   "source": [
    "\"\"\"\n",
    "\n",
    "X = [\n",
    "    (0.4, 2.5),\n",
    "    ...\n",
    "]\n",
    "\n",
    "\n",
    "TODO: could partitiion space for faster searching?\n",
    "\"\"\"\n",
    "    \n",
    "def k_means(X, k: int, max_movement_per_iter: float) -> np.array:\n",
    "    m, d = X.shape\n",
    "    assert k <= m\n",
    "    init_centroid_idxes = np.random.choice(m, size=k, replace=False)\n",
    "    centroids = X[init_centroid_idxes]\n",
    "    k_range = np.arange(k)\n",
    "    while True:\n",
    "        point_position_sums = np.zeros((k, d))\n",
    "        centroid_id_to_count = np.zeros((k,1))\n",
    "        manhattan_dists = abs(X[..., None] - centroids.T).sum(axis=1)\n",
    "        closest_centroid_idxes = manhattan_dists.argmin(axis=1) # (m,) -> the closest centroid idxes for each m\n",
    "        one_hot = closest_centroid_idxes[:, None] == np.arange(k)[None, :]\n",
    "        one_hot_unsqueezed = one_hot[:, None, :].astype(float)\n",
    "        X_unsqueezed = X[:, :, None]\n",
    "        selected_vals = one_hot_unsqueezed * X_unsqueezed # TODO: consider selecting the vals with indexing instead of multiplying by the mask\n",
    "        centroid_sums = selected_vals.sum(axis=0).T\n",
    "        centroid_counts = one_hot.sum(axis=0)\n",
    "        if any(centroid_counts == 0):\n",
    "            raise Exception(\"At least one centroid was not assigned any points.\")\n",
    "        new_centroids = centroid_sums / centroid_counts[:, None]\n",
    "        if max(abs(centroids - new_centroids).sum(axis=1)) < max_movement_per_iter:\n",
    "            centroids = new_centroids\n",
    "            break\n",
    "        centroids = new_centroids\n",
    "    return centroids"
   ]
  },
  {
   "cell_type": "code",
   "execution_count": 124,
   "id": "35e63cf2-54c6-456c-b63f-9fb5a7e35000",
   "metadata": {},
   "outputs": [],
   "source": [
    "means = k_means(X, 4, 1e-4)"
   ]
  },
  {
   "cell_type": "code",
   "execution_count": 125,
   "id": "1edaf940-5a48-4263-9e5d-e7aa4e069eae",
   "metadata": {},
   "outputs": [
    {
     "data": {
      "text/plain": [
       "<matplotlib.collections.PathCollection at 0x12197c550>"
      ]
     },
     "execution_count": 125,
     "metadata": {},
     "output_type": "execute_result"
    },
    {
     "data": {
      "image/png": "[encoded data removed]",
      "text/plain": [
       "<Figure size 640x480 with 1 Axes>"
      ]
     },
     "metadata": {},
     "output_type": "display_data"
    }
   ],
   "source": [
    "plt.scatter(X[:, 0], X[:, 1], color='black')\n",
    "plt.scatter(means[:, 0], means[:, 1], color='red')"
   ]
  },
  {
   "cell_type": "code",
   "execution_count": 54,
   "id": "2bbdf91a-f23b-48da-b4e0-f1eb5aabdb1d",
   "metadata": {},
   "outputs": [],
   "source": [
    "X = np.random.random(\n",
    "    (4, 2)\n",
    ")"
   ]
  },
  {
   "cell_type": "code",
   "execution_count": 55,
   "id": "cf08df82-3bb0-4e18-a725-83415a10bf9d",
   "metadata": {},
   "outputs": [],
   "source": [
    "C = np.random.random(\n",
    "    (3, 2)\n",
    ")"
   ]
  },
  {
   "cell_type": "code",
   "execution_count": 57,
   "id": "a2c60089-9d8e-48e0-8a2b-af05742870b8",
   "metadata": {},
   "outputs": [
    {
     "data": {
      "text/plain": [
       "array([0, 1, 2, 3, 4])"
      ]
     },
     "execution_count": 57,
     "metadata": {},
     "output_type": "execute_result"
    }
   ],
   "source": [
    "np.arange(5)"
   ]
  },
  {
   "cell_type": "code",
   "execution_count": 58,
   "id": "dcd27b39-e7b5-49aa-a0ae-5334461262a3",
   "metadata": {},
   "outputs": [],
   "source": [
    "binary_matrix = np.zeros((3,2,4))"
   ]
  },
  {
   "cell_type": "code",
   "execution_count": 60,
   "id": "78b48817-a3dc-4d92-993a-668dddff74d3",
   "metadata": {},
   "outputs": [],
   "source": [
    "binary_matrix[np.arange(3)==np.array([1,2,2]),:,:] = 1"
   ]
  },
  {
   "cell_type": "code",
   "execution_count": 100,
   "id": "ed683648-50c7-49e1-9206-86dbb72683c1",
   "metadata": {},
   "outputs": [
    {
     "data": {
      "text/plain": [
       "np.float64(0.0)"
      ]
     },
     "execution_count": 100,
     "metadata": {},
     "output_type": "execute_result"
    }
   ],
   "source": [
    "binary_matrix.min()"
   ]
  },
  {
   "cell_type": "code",
   "execution_count": null,
   "id": "dec4a37b-4c1b-4ef1-bdc8-d4dda4890f38",
   "metadata": {},
   "outputs": [],
   "source": []
  },
  {
   "cell_type": "code",
   "execution_count": null,
   "id": "99353856-f25e-452a-b7de-08df398a8b5f",
   "metadata": {},
   "outputs": [],
   "source": []
  }
 ],
 "metadata": {
  "kernelspec": {
   "display_name": "Python 3 (ipykernel)",
   "language": "python",
   "name": "python3"
  },
  "language_info": {
   "codemirror_mode": {
    "name": "ipython",
    "version": 3
   },
   "file_extension": ".py",
   "mimetype": "text/x-python",
   "name": "python",
   "nbconvert_exporter": "python",
   "pygments_lexer": "ipython3",
   "version": "3.13.2"
  }
 },
 "nbformat": 4,
 "nbformat_minor": 5
}
