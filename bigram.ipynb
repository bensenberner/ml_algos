{
 "cells": [
  {
   "cell_type": "code",
   "execution_count": 1,
   "id": "0c08b48d",
   "metadata": {},
   "outputs": [],
   "source": [
    "import csv"
   ]
  },
  {
   "cell_type": "markdown",
   "id": "7268fb23",
   "metadata": {},
   "source": []
  },
  {
   "cell_type": "code",
   "execution_count": 17,
   "id": "726b83b4",
   "metadata": {},
   "outputs": [],
   "source": [
    "all_names = []\n",
    "with open('names.csv', 'r') as file:\n",
    "    # Create a CSV reader object\n",
    "    csv_reader = csv.reader(file)\n",
    "    # Read and print each row\n",
    "    for row in csv_reader:\n",
    "        rank, male, female = row\n",
    "        all_names.extend([male, female])"
   ]
  },
  {
   "cell_type": "code",
   "execution_count": 21,
   "id": "18a210c7",
   "metadata": {},
   "outputs": [],
   "source": [
    "def char_to_one_based_idx(char):\n",
    "    return ord(char) - ord('a') + 1"
   ]
  },
  {
   "cell_type": "code",
   "execution_count": 22,
   "id": "b7d9a4c1",
   "metadata": {},
   "outputs": [],
   "source": [
    "def idx_to_char(idx):\n",
    "    if idx == 0:\n",
    "        return \".\"\n",
    "    else:\n",
    "        return chr(ord('a') + idx - 1)"
   ]
  },
  {
   "cell_type": "code",
   "execution_count": 26,
   "id": "947a4578",
   "metadata": {},
   "outputs": [],
   "source": [
    "all_tokenized_names = [\n",
    "    [0] + [char_to_one_based_idx(char) for char in name] + [0]\n",
    "    for name in all_names\n",
    "]"
   ]
  },
  {
   "cell_type": "code",
   "execution_count": 33,
   "id": "d64984b7",
   "metadata": {},
   "outputs": [],
   "source": [
    "from collections import defaultdict\n",
    "import numpy as np\n",
    "token_to_next_count = defaultdict(lambda: defaultdict(lambda: 0))\n",
    "X = np.zeros((28, 28))\n",
    "for tokenized_name in all_tokenized_names:\n",
    "    for token_idx in range(len(tokenized_name)-1):\n",
    "        X[tokenized_name[token_idx]][tokenized_name[token_idx+1]] += 1"
   ]
  },
  {
   "cell_type": "code",
   "execution_count": 72,
   "id": "355adb92",
   "metadata": {},
   "outputs": [],
   "source": [
    "def create_name(X):\n",
    "    counts_per_first_char = (X.sum(axis=1) + 1e-9)[:, None]\n",
    "    W = X / counts_per_first_char\n",
    "    curr_tok = 0\n",
    "    result = []\n",
    "    while True:\n",
    "        curr_tok = np.random.choice(np.arange(28), p=W[curr_tok])\n",
    "        if curr_tok == 0:\n",
    "            break\n",
    "        result.append(curr_tok)\n",
    "    return \"\".join([\n",
    "        idx_to_char(tok) for tok in result\n",
    "    ])\n",
    "    "
   ]
  },
  {
   "cell_type": "code",
   "execution_count": 85,
   "id": "1e331348",
   "metadata": {},
   "outputs": [
    {
     "name": "stdout",
     "output_type": "stream",
     "text": [
      "kilavia\n",
      "ce\n",
      "zisay\n",
      "enn\n",
      "oweralivickaxt\n",
      "dasueruspphr\n",
      "mae\n",
      "lianileridr\n",
      "anylans\n",
      "mia\n"
     ]
    }
   ],
   "source": [
    "for _ in range(10):\n",
    "    print(create_name(X))"
   ]
  }
 ],
 "metadata": {
  "kernelspec": {
   "display_name": ".venv",
   "language": "python",
   "name": "python3"
  },
  "language_info": {
   "codemirror_mode": {
    "name": "ipython",
    "version": 3
   },
   "file_extension": ".py",
   "mimetype": "text/x-python",
   "name": "python",
   "nbconvert_exporter": "python",
   "pygments_lexer": "ipython3",
   "version": "3.13.2"
  }
 },
 "nbformat": 4,
 "nbformat_minor": 5
}
