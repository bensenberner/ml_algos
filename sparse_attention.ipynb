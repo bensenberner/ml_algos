{
 "cells": [
  {
   "cell_type": "code",
   "execution_count": null,
   "id": "ab4fec36",
   "metadata": {},
   "outputs": [],
   "source": [
    "\n",
    "import torch as t\n",
    "import torch.nn as nn \n",
    "import torch.nn.functional as F \n",
    "from torch import Tensor\n",
    "from jaxtyping import Int, Float\n",
    "from dataclasses import dataclass\n",
    "import einops"
   ]
  },
  {
   "cell_type": "code",
   "execution_count": null,
   "id": "60794ac1",
   "metadata": {},
   "outputs": [
    {
     "name": "stdout",
     "output_type": "stream",
     "text": [
      "torch.Size([4, 128, 256])\n",
      "torch.Size([4, 1, 128, 128])\n"
     ]
    }
   ],
   "source": [
    "class StridedAttention(nn.Module):\n",
    "    def __init__(self, num_heads=2, d_model=3, d_head=2, horizontal_stride=2):\n",
    "        super().__init__()\n",
    "        self.num_heads = num_heads\n",
    "        self.horizontal_stride = horizontal_stride\n",
    "        self.W_Q = nn.Parameter(t.randn(d_model, d_head))\n",
    "        self.W_K = nn.Parameter(t.randn(d_model, d_head))\n",
    "        self.W_V = nn.Parameter(t.randn(d_model, d_head))\n",
    "\n",
    "    def forward(self, embed: Float[Tensor, \"b s d_m\"]) -> Float[Tensor, \"b s d_m\"]:\n",
    "        b, s, d_m = embed.shape\n",
    "        Q = embed @ self.W_Q # b s_q d_head\n",
    "        K = embed @ self.W_K # b s_k d_head\n",
    "        V = embed @ self.W_V # b s_v d_head\n",
    "\n",
    "        # 2 heads\n",
    "        # b 1 s_q d_head\n",
    "        Q = Q[:, None, ...]\n",
    "        # TODO: Think of a non memory moving way to do this.\n",
    "        # b 2 s_q d_head\n",
    "        Q = Q.repeat(1,2,1,1)\n",
    "\n",
    "        # b 1 s_k d_head\n",
    "        K = K[:, None, ...]\n",
    "        V = V[:, None, ...]\n",
    "        # stride_width = seq_len // num_heads\n",
    "        print(V.shape)\n",
    "\n",
    "        # horizontal stride shape b 1 s_k//stride d_head\n",
    "        K = K[:, :, range(0, s, self.horizontal_stride), :]\n",
    "        print(K.shape)\n",
    "\n",
    "        # range 1..... seq_Q\n",
    "        # seq_Q, s_k//stride\n",
    "\n",
    "        \n",
    "\n",
    "        # K_t = K.transpose(1, 2) # b d_head s_k\n",
    "        # Q_K_t = Q @ K_t # GOAL: b s_q s_k//stride\n",
    "        \n",
    "        # sf(qk/scale)v\n",
    "\n",
    "\n",
    "B=4\n",
    "S=128\n",
    "D=256\n",
    "input = t.randn((B, S, D))\n",
    "print(input.shape)\n",
    "attn = StridedAttention(2, D, D//2)        \n",
    "attn(input)\n"
   ]
  },
  {
   "cell_type": "code",
   "execution_count": 29,
   "id": "c7ca46ce",
   "metadata": {},
   "outputs": [
    {
     "name": "stdout",
     "output_type": "stream",
     "text": [
      "torch.Size([3, 3])\n",
      "tensor([[ 0,  8, 16],\n",
      "        [ 1,  9, 17],\n",
      "        [ 2, 10, 18]])\n"
     ]
    }
   ],
   "source": [
    "test = t.arange(0, 3)[:, None] + t.arange(0, 24, 8)[None, :]\n",
    "print(test.shape)\n",
    "print(test)\n"
   ]
  },
  {
   "cell_type": "code",
   "execution_count": null,
   "id": "d9ab711d",
   "metadata": {},
   "outputs": [],
   "source": [
    "toks = t.tensor([\n",
    "    [1,2,3,4,5,6],\n",
    "    [7,8,9,10,11,12],\n",
    "])"
   ]
  },
  {
   "cell_type": "code",
   "execution_count": null,
   "id": "5d82a3e4",
   "metadata": {},
   "outputs": [],
   "source": [
    "seq_len, d_model = toks.shape\n",
    "num_heads = 2\n",
    "head_dim = d_model // num_heads\n",
    "\n",
    "viewed = toks.view(num_heads, seq_len, head_dim)"
   ]
  },
  {
   "cell_type": "code",
   "execution_count": 8,
   "id": "9ff8acd2",
   "metadata": {},
   "outputs": [
    {
     "data": {
      "text/plain": [
       "tensor([[ 7,  8,  9],\n",
       "        [10, 11, 12]])"
      ]
     },
     "execution_count": 8,
     "metadata": {},
     "output_type": "execute_result"
    }
   ],
   "source": [
    "viewed[1, :, :]"
   ]
  },
  {
   "cell_type": "code",
   "execution_count": null,
   "id": "8a109740",
   "metadata": {},
   "outputs": [],
   "source": []
  }
 ],
 "metadata": {
  "kernelspec": {
   "display_name": ".venv",
   "language": "python",
   "name": "python3"
  },
  "language_info": {
   "codemirror_mode": {
    "name": "ipython",
    "version": 3
   },
   "file_extension": ".py",
   "mimetype": "text/x-python",
   "name": "python",
   "nbconvert_exporter": "python",
   "pygments_lexer": "ipython3",
   "version": "3.13.2"
  }
 },
 "nbformat": 4,
 "nbformat_minor": 5
}
