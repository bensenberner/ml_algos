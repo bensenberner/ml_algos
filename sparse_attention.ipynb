{
 "cells": [
  {
   "cell_type": "code",
   "execution_count": 1,
   "id": "ab4fec36",
   "metadata": {},
   "outputs": [],
   "source": [
    "\n",
    "import torch as t\n",
    "import torch.nn as nn \n",
    "import torch.nn.functional as F \n",
    "from torch import Tensor\n",
    "from jaxtyping import Int, Float\n",
    "from dataclasses import dataclass\n",
    "import einops"
   ]
  },
  {
   "cell_type": "code",
   "execution_count": null,
   "id": "60794ac1",
   "metadata": {},
   "outputs": [
    {
     "name": "stdout",
     "output_type": "stream",
     "text": [
      "torch.Size([4, 128, 256])\n",
      "torch.Size([4, 1, 128, 128])\n",
      "torch.Size([4, 1, 64, 128])\n"
     ]
    }
   ],
   "source": [
    "class StridedAttention(nn.Module):\n",
    "    def __init__(self, num_heads=2, d_model=4, num_horizontal_strides=2):\n",
    "        super().__init__()\n",
    "        self.num_heads = num_heads\n",
    "        self.num_horizontal_strides = num_horizontal_strides\n",
    "        \n",
    "        # d_head = d_model // num_heads\n",
    "        self.W_Q = nn.Parameter(t.randn(d_model, d_model))\n",
    "        self.W_K = nn.Parameter(t.randn(d_model, d_model))\n",
    "        self.W_V = nn.Parameter(t.randn(d_model, d_model))\n",
    "\n",
    "    def forward(self, embed: Float[Tensor, \"b s d_m\"]) -> Float[Tensor, \"b s d_m\"]:\n",
    "        b, s, d_m = embed.shape\n",
    "        \n",
    "        Q = embed @ self.W_Q # b s_q d_m\n",
    "        K = embed @ self.W_K # b s_k d_m\n",
    "        V = embed @ self.W_V # b s_v d_\n",
    "        \n",
    "        stride_length = s // self.num_horizontal_strides\n",
    "        \"\"\"\n",
    "        q = s_q d_m\n",
    "        kt = d_m s_k -> s_q s_k\n",
    "        s_q * d_m subset_k -> s_q subset_k\n",
    "        \"\"\"\n",
    "        strided_K = K[:, ::stride_length]\n",
    "\n",
    "        # b 1 s_q d_m\n",
    "        Q = Q[:, None, ...]\n",
    "        # TODO: Think of a non memory moving way to do this.\n",
    "        # b 2 s_q d_head\n",
    "        Q = Q.repeat(1,2,1,1)\n",
    "\n",
    "        # b 1 s_k d_head\n",
    "        K = K[:, None, ...]\n",
    "        V = V[:, None, ...]\n",
    "        # stride_width = seq_len // num_heads\n",
    "        print(V.shape)\n",
    "\n",
    "        # horizontal stride shape b 1 s_k//stride d_head\n",
    "        K = K[:, :, range(0, s, self.horizontal_stride), :]\n",
    "        print(K.shape)\n",
    "\n",
    "        # range 1..... seq_Q\n",
    "        # seq_Q, s_k//stride\n",
    "\n",
    "        \n",
    "\n",
    "        # K_t = K.transpose(1, 2) # b d_head s_k\n",
    "        # Q_K_t = Q @ K_t # GOAL: b s_q s_k//stride\n",
    "        \n",
    "        # sf(qk/scale)v\n",
    "\n",
    "\n",
    "B=4\n",
    "S=128\n",
    "D=256\n",
    "input = t.randn((B, S, D))\n",
    "print(input.shape)\n",
    "attn = StridedAttention(2, D, D//2)        \n",
    "attn(input)\n"
   ]
  },
  {
   "cell_type": "code",
   "execution_count": 3,
   "id": "1cd27587",
   "metadata": {},
   "outputs": [],
   "source": [
    "import numpy as np"
   ]
  },
  {
   "cell_type": "code",
   "execution_count": 4,
   "id": "13edf1be",
   "metadata": {},
   "outputs": [],
   "source": [
    "vals =np.random.randint(1, 9, size=(6,6))"
   ]
  },
  {
   "cell_type": "code",
   "execution_count": null,
   "id": "65acd782",
   "metadata": {},
   "outputs": [],
   "source": []
  },
  {
   "cell_type": "code",
   "execution_count": 33,
   "id": "138e062a",
   "metadata": {},
   "outputs": [],
   "source": [
    "n = 6\n",
    "\n",
    "# (row + col) % stride\n",
    "\"\"\"\n",
    "    \n",
    "    F F T F F T\n",
    "    T F F T F F\n",
    "    F T F F T F\n",
    "    \n",
    "\"\"\"\n",
    "stride_length = 3\n",
    "rows = np.arange(n)[:, None]\n",
    "cols = np.arange(n-1, -1, -1)[None, :]\n",
    "mask = (rows + cols) % stride_length == 0\n",
    "\n",
    "rows_to_pull = np.where(mask, np.arange(n)[:, None], -1)"
   ]
  },
  {
   "cell_type": "code",
   "execution_count": null,
   "id": "31300f4c",
   "metadata": {},
   "outputs": [],
   "source": []
  },
  {
   "cell_type": "code",
   "execution_count": 39,
   "id": "97a5580c",
   "metadata": {},
   "outputs": [
    {
     "data": {
      "text/plain": [
       "array([[3, 7, 7, 1, 6, 5],\n",
       "       [5, 3, 8, 8, 3, 4],\n",
       "       [7, 7, 7, 4, 5, 8],\n",
       "       [3, 7, 4, 1, 5, 7],\n",
       "       [7, 3, 5, 8, 8, 3],\n",
       "       [1, 5, 4, 1, 3, 6]])"
      ]
     },
     "execution_count": 39,
     "metadata": {},
     "output_type": "execute_result"
    }
   ],
   "source": [
    "vals"
   ]
  },
  {
   "cell_type": "code",
   "execution_count": 40,
   "id": "70557068",
   "metadata": {},
   "outputs": [
    {
     "data": {
      "text/plain": [
       "array([[False, False,  True, False, False,  True],\n",
       "       [ True, False, False,  True, False, False],\n",
       "       [False,  True, False, False,  True, False],\n",
       "       [False, False,  True, False, False,  True],\n",
       "       [ True, False, False,  True, False, False],\n",
       "       [False,  True, False, False,  True, False]])"
      ]
     },
     "execution_count": 40,
     "metadata": {},
     "output_type": "execute_result"
    }
   ],
   "source": [
    "mask"
   ]
  },
  {
   "cell_type": "code",
   "execution_count": 42,
   "id": "639624ce",
   "metadata": {},
   "outputs": [
    {
     "ename": "TypeError",
     "evalue": "tri() missing 1 required positional argument: 'N'",
     "output_type": "error",
     "traceback": [
      "\u001b[31m---------------------------------------------------------------------------\u001b[39m",
      "\u001b[31mTypeError\u001b[39m                                 Traceback (most recent call last)",
      "\u001b[36mCell\u001b[39m\u001b[36m \u001b[39m\u001b[32mIn[42]\u001b[39m\u001b[32m, line 1\u001b[39m\n\u001b[32m----> \u001b[39m\u001b[32m1\u001b[39m self_attn_mask = \u001b[43mnp\u001b[49m\u001b[43m.\u001b[49m\u001b[43mtril\u001b[49m\u001b[43m(\u001b[49m\u001b[43mn\u001b[49m\u001b[43m)\u001b[49m\n",
      "\u001b[36mFile \u001b[39m\u001b[32m~/work/interview/ml_algos/.venv/lib/python3.13/site-packages/numpy/lib/_twodim_base_impl.py:492\u001b[39m, in \u001b[36mtril\u001b[39m\u001b[34m(m, k)\u001b[39m\n\u001b[32m    443\u001b[39m \u001b[38;5;250m\u001b[39m\u001b[33;03m\"\"\"\u001b[39;00m\n\u001b[32m    444\u001b[39m \u001b[33;03mLower triangle of an array.\u001b[39;00m\n\u001b[32m    445\u001b[39m \n\u001b[32m   (...)\u001b[39m\u001b[32m    489\u001b[39m \n\u001b[32m    490\u001b[39m \u001b[33;03m\"\"\"\u001b[39;00m\n\u001b[32m    491\u001b[39m m = asanyarray(m)\n\u001b[32m--> \u001b[39m\u001b[32m492\u001b[39m mask = \u001b[43mtri\u001b[49m\u001b[43m(\u001b[49m\u001b[43m*\u001b[49m\u001b[43mm\u001b[49m\u001b[43m.\u001b[49m\u001b[43mshape\u001b[49m\u001b[43m[\u001b[49m\u001b[43m-\u001b[49m\u001b[32;43m2\u001b[39;49m\u001b[43m:\u001b[49m\u001b[43m]\u001b[49m\u001b[43m,\u001b[49m\u001b[43m \u001b[49m\u001b[43mk\u001b[49m\u001b[43m=\u001b[49m\u001b[43mk\u001b[49m\u001b[43m,\u001b[49m\u001b[43m \u001b[49m\u001b[43mdtype\u001b[49m\u001b[43m=\u001b[49m\u001b[38;5;28;43mbool\u001b[39;49m\u001b[43m)\u001b[49m\n\u001b[32m    494\u001b[39m \u001b[38;5;28;01mreturn\u001b[39;00m where(mask, m, zeros(\u001b[32m1\u001b[39m, m.dtype))\n",
      "\u001b[31mTypeError\u001b[39m: tri() missing 1 required positional argument: 'N'"
     ]
    }
   ],
   "source": [
    "self_attn_mask = np.tril(n)"
   ]
  },
  {
   "cell_type": "code",
   "execution_count": 37,
   "id": "70b884ab",
   "metadata": {},
   "outputs": [
    {
     "data": {
      "text/plain": [
       "array([[7, 5],\n",
       "       [5, 8],\n",
       "       [7, 5],\n",
       "       [4, 7],\n",
       "       [7, 8],\n",
       "       [5, 3]])"
      ]
     },
     "execution_count": 37,
     "metadata": {},
     "output_type": "execute_result"
    }
   ],
   "source": [
    "vals[mask].reshape((n, n//stride_length))"
   ]
  },
  {
   "cell_type": "markdown",
   "id": "56267093",
   "metadata": {},
   "source": []
  },
  {
   "cell_type": "code",
   "execution_count": 29,
   "id": "c7ca46ce",
   "metadata": {},
   "outputs": [
    {
     "name": "stdout",
     "output_type": "stream",
     "text": [
      "torch.Size([3, 3])\n",
      "tensor([[ 0,  8, 16],\n",
      "        [ 1,  9, 17],\n",
      "        [ 2, 10, 18]])\n"
     ]
    }
   ],
   "source": [
    "test = t.arange(0, 3)[:, None] + t.arange(0, 24, 8)[None, :]\n",
    "print(test.shape)\n",
    "print(test)\n"
   ]
  },
  {
   "cell_type": "code",
   "execution_count": null,
   "id": "d9ab711d",
   "metadata": {},
   "outputs": [],
   "source": [
    "toks = t.tensor([\n",
    "    [1,2,3,4,5,6],\n",
    "    [7,8,9,10,11,12],\n",
    "])"
   ]
  },
  {
   "cell_type": "code",
   "execution_count": null,
   "id": "5d82a3e4",
   "metadata": {},
   "outputs": [],
   "source": [
    "seq_len, d_model = toks.shape\n",
    "num_heads = 2\n",
    "head_dim = d_model // num_heads\n",
    "\n",
    "viewed = toks.view(num_heads, seq_len, head_dim)"
   ]
  },
  {
   "cell_type": "code",
   "execution_count": 8,
   "id": "9ff8acd2",
   "metadata": {},
   "outputs": [
    {
     "data": {
      "text/plain": [
       "tensor([[ 7,  8,  9],\n",
       "        [10, 11, 12]])"
      ]
     },
     "execution_count": 8,
     "metadata": {},
     "output_type": "execute_result"
    }
   ],
   "source": [
    "viewed[1, :, :]"
   ]
  },
  {
   "cell_type": "code",
   "execution_count": null,
   "id": "8a109740",
   "metadata": {},
   "outputs": [],
   "source": []
  }
 ],
 "metadata": {
  "kernelspec": {
   "display_name": ".venv",
   "language": "python",
   "name": "python3"
  },
  "language_info": {
   "codemirror_mode": {
    "name": "ipython",
    "version": 3
   },
   "file_extension": ".py",
   "mimetype": "text/x-python",
   "name": "python",
   "nbconvert_exporter": "python",
   "pygments_lexer": "ipython3",
   "version": "3.13.2"
  }
 },
 "nbformat": 4,
 "nbformat_minor": 5
}
