{
 "cells": [
  {
   "cell_type": "code",
   "execution_count": null,
   "id": "f14cd697",
   "metadata": {},
   "outputs": [],
   "source": [
    "import numpy as np\n",
    "import mmh3\n",
    "from math import log, ceil "
   ]
  },
  {
   "cell_type": "code",
   "execution_count": 65,
   "id": "9eafda78",
   "metadata": {},
   "outputs": [],
   "source": [
    "class BloomFilter:\n",
    "    def __init__(self, n, false_pos_rate):\n",
    "        # optimal values determined by wikipedia equations\n",
    "        self.bit_arr_size = ceil(-n * log(false_pos_rate) / (log(2)**2))\n",
    "        self.num_hash_fns = ceil(self.bit_arr_size * log(2)/ n)\n",
    "        print(f\"Creating filter of size {self.bit_arr_size} with {self.num_hash_fns} hash fns\")\n",
    "        self.bit_arr = np.zeros(self.bit_arr_size, dtype=bool)\n",
    "        \n",
    "    def _get_bit_arr_idx(self, hash_algo_seed: int, row: np.ndarray) -> int:\n",
    "        row_hash = mmh3.hash(row.tobytes(), hash_algo_seed) \n",
    "        return row_hash % self.bit_arr_size \n",
    "\n",
    "    def add(self, row: np.ndarray) -> None:\n",
    "        \"\"\"\n",
    "        From wikipedia:\n",
    "        To add an element, feed it to each of the k hash functions to get k array positions. Set the bits at all these positions to 1.\n",
    "        \"\"\"\n",
    "        for hash_algo_seed in range(self.num_hash_fns):\n",
    "            bit_idx = self._get_bit_arr_idx(hash_algo_seed, row)\n",
    "            self.bit_arr[bit_idx] = True\n",
    "\n",
    "    def __contains__(self, row: np.ndarray) -> bool:\n",
    "        for seed in range(self.num_hash_fns):\n",
    "            bit_idx = self._get_bit_arr_idx(seed, row)\n",
    "            if not self.bit_arr[bit_idx]:\n",
    "                return False\n",
    "        return True"
   ]
  },
  {
   "cell_type": "code",
   "execution_count": 66,
   "id": "ddd91cda",
   "metadata": {},
   "outputs": [],
   "source": [
    "def deduplicate(data: np.array, false_pos_rate: float) -> np.array:\n",
    "    n = data.shape[0]\n",
    "    bf = BloomFilter(n, false_pos_rate)\n",
    "    unique_rows = []\n",
    "    num_false_positives = 0\n",
    "    for idx, row in enumerate(data):\n",
    "        if row in bf:\n",
    "            # avoiding false positives by scanning\n",
    "            prev_rows_matching_curr = np.all(data[:idx] == row, axis=1)\n",
    "            row_truly_already_present = np.any(prev_rows_matching_curr)\n",
    "            if row_truly_already_present:\n",
    "                continue\n",
    "            else:\n",
    "                num_false_positives += 1\n",
    "        # no false negatives, so if absent from bf then it's unique\n",
    "        unique_rows.append(row)\n",
    "        bf.add(row)\n",
    "    print(f\"False positive rate {num_false_positives / n}\")\n",
    "    return np.array(unique_rows)        "
   ]
  },
  {
   "cell_type": "code",
   "execution_count": 67,
   "id": "6466d3d2",
   "metadata": {},
   "outputs": [],
   "source": [
    "total_num_rows = 100_000\n",
    "num_dups = 100\n",
    "all_data = np.random.randint(0, 99, size=(total_num_rows, 7))\n",
    "assert len(all_data) == len(np.unique(all_data, axis=0)), \"Initial data has duplicates; rerun\"\n",
    "rows_to_duplicate = np.random.choice(total_num_rows-2, num_dups, replace=False)\n",
    "all_data[rows_to_duplicate] = all_data[-1]\n",
    "assert total_num_rows - len(np.unique(all_data, axis=0)) == num_dups"
   ]
  },
  {
   "cell_type": "code",
   "execution_count": 68,
   "id": "7f0cea48",
   "metadata": {},
   "outputs": [
    {
     "name": "stdout",
     "output_type": "stream",
     "text": [
      "Creating filter of size 958506 with 7 hash fns\n",
      "False positive rate 0.00175\n"
     ]
    }
   ],
   "source": [
    "false_pos_rate = 0.01\n",
    "deduped = deduplicate(all_data, false_pos_rate)\n",
    "assert len(deduped) == total_num_rows - num_dups"
   ]
  }
 ],
 "metadata": {
  "kernelspec": {
   "display_name": ".venv",
   "language": "python",
   "name": "python3"
  },
  "language_info": {
   "codemirror_mode": {
    "name": "ipython",
    "version": 3
   },
   "file_extension": ".py",
   "mimetype": "text/x-python",
   "name": "python",
   "nbconvert_exporter": "python",
   "pygments_lexer": "ipython3",
   "version": "3.13.2"
  }
 },
 "nbformat": 4,
 "nbformat_minor": 5
}
