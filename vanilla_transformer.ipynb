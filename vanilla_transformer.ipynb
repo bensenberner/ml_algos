{
 "cells": [
  {
   "cell_type": "code",
   "execution_count": 1,
   "id": "fe6c665a",
   "metadata": {},
   "outputs": [],
   "source": [
    "\n",
    "import torch as t\n",
    "import torch.nn as nn \n",
    "import torch.nn.functional as F \n",
    "from torch import Tensor\n",
    "from jaxtyping import Int, Float\n",
    "from dataclasses import dataclass"
   ]
  },
  {
   "cell_type": "code",
   "execution_count": 2,
   "id": "40bb1c02",
   "metadata": {},
   "outputs": [],
   "source": [
    "\n",
    "@dataclass\n",
    "class Config:\n",
    "    d_model: int = 768\n",
    "    debug: bool = True\n",
    "    layer_norm_eps: float = 1e-5\n",
    "    d_vocab: int = 50257\n",
    "    init_range: float = 0.02\n",
    "    n_ctx: int = 1024\n",
    "    d_head: int = 64\n",
    "    d_mlp: int = 3072\n",
    "    n_heads: int = 12\n",
    "    n_layers: int = 12\n",
    "\n",
    "cfg = Config()"
   ]
  },
  {
   "cell_type": "code",
   "execution_count": 54,
   "id": "886d47cf",
   "metadata": {},
   "outputs": [],
   "source": [
    "class LayerNorm(nn.Module):\n",
    "    def __init__(self, cfg: Config):\n",
    "        super().__init__()\n",
    "        self.cfg = cfg\n",
    "        self.w = nn.Parameter(t.ones(cfg.d_model))\n",
    "        self.b = nn.Parameter(t.ones(cfg.d_model))\n",
    "\n",
    "    def forward(self, resid: Float[Tensor, \"batch seq d_model\"]):\n",
    "        mean = resid.mean(dim=-1, keepdim=True)\n",
    "        std = (\n",
    "            resid.var(dim=-1, keepdim=True, unbiased=False) + self.cfg.layer_norm_eps\n",
    "        ).sqrt()\n",
    "        normalized = (resid - mean) / std\n",
    "        return normalized * self.w + self.b"
   ]
  },
  {
   "cell_type": "code",
   "execution_count": null,
   "id": "982b6e12",
   "metadata": {},
   "outputs": [],
   "source": [
    "\n",
    "class SHA(nn.Module):\n",
    "    def __init__(self, cfg: Config): \n",
    "        super().__init__()\n",
    "        DM, DH = cfg.d_model, cfg.d_head\n",
    "        self.D = DM\n",
    "        self.DH = DH\n",
    "        # TODO: where do I chop up the d_model dim?\n",
    "        self.scale = t.sqrt(t.tensor(DM, dtype=t.float32))\n",
    "        self.wq = nn.Linear(DM, DH) # query projection\n",
    "        self.wk = nn.Linear(DM, DH) # key projection  \n",
    "        self.wv = nn.Linear(DM, DH) # value projection\n",
    "        self.wo = nn.Linear(DH, DM) # final output projection\n",
    "\n",
    "    def forward(self, x: Float[Tensor, \"B S D\"]) -> Float[Tensor, \"B S D\"]:\n",
    "        Q, K, V = self.wq(x), self.wk(x), self.wv(x) # BNH S DH\n",
    "        K_t = K.transpose(1, 2) # B DH S\n",
    "        A_logits = (Q @ K_t)/self.scale # B S S\n",
    "        A_masked = t.tril(A_logits)\n",
    "        A = F.softmax(A_masked, dim=-1) # [B, S, S]\n",
    "        Z = A @ V\n",
    "        return self.wo(Z)"
   ]
  },
  {
   "cell_type": "code",
   "execution_count": null,
   "id": "ba7df829",
   "metadata": {},
   "outputs": [],
   "source": [
    "class PosEmbed(nn.Module):\n",
    "    def __init__(self, cfg: Config):\n",
    "        super().__init__()\n",
    "        self.W_E = nn.Parameter(\n",
    "            num_embeddings=cfg.n_ctx,\n",
    "            embedding_dim=cfg.d_model,\n",
    "        )\n",
    "        \n",
    "    def forward(self, resid: Int[Tensor, \"batch seq\"]) -> Float[Tensor, \"batch seq d_model\"]:\n",
    "        _, seq = resid.shape\n",
    "        return self.W_E[None, :seq, :]\n",
    "    "
   ]
  },
  {
   "cell_type": "code",
   "execution_count": 70,
   "id": "5ed3ccaf",
   "metadata": {},
   "outputs": [],
   "source": [
    "class MLP(nn.Module):\n",
    "    def __init__(self, cfg):\n",
    "        super().__init__()\n",
    "        self.cfg = cfg\n",
    "        "
   ]
  },
  {
   "cell_type": "code",
   "execution_count": null,
   "id": "99a678b6",
   "metadata": {},
   "outputs": [],
   "source": [
    "class TransformerBlock(nn.Module):\n",
    "    def __init__(self, cfg: Config):\n",
    "        super().__init__()\n",
    "        self.cfg = cfg\n",
    "        self.ln1 = LayerNorm(cfg)\n",
    "        self.attn = SHA(cfg)\n",
    "        self.ln2 = LayerNorm(cfg)\n",
    "        self.mlp = MLP(cfg)\n",
    "\n",
    "    def forward(self, x: Float[Tensor, \"batch seq d_model\"]) -> Float[Tensor, \"batch seq d_model\"]:\n",
    "        attn_output = self.ln1(self.attn(x))\n",
    "        x += attn_output\n",
    "        mlp_output = self.ln2(self.mlp(x))\n",
    "        x += mlp_output\n",
    "        return x\n",
    "        \n",
    "        "
   ]
  },
  {
   "cell_type": "code",
   "execution_count": null,
   "id": "bd3deac4",
   "metadata": {},
   "outputs": [],
   "source": [
    "class Unembed(nn.Module):\n",
    "    def __init__(self, cfg: Config):\n",
    "        super().__init__()\n",
    "        self.W =nn.Linear(\n",
    "            in_features=cfg.d_model,\n",
    "            out_features=cfg.d_vocab\n",
    "        )\n",
    "\n",
    "    def forward(self, x: Float[Tensor, \"batch seq d_model\"]) -> Float[Tensor, \"batch seq d_vocab\"]:\n",
    "        a = self.W(x)\n",
    "        return t.softmax(a, dim=-1)"
   ]
  },
  {
   "cell_type": "code",
   "execution_count": 73,
   "id": "2c7df452",
   "metadata": {},
   "outputs": [],
   "source": [
    "\n",
    "class FullTransformer(nn.Module):\n",
    "    def __init__(self, cfg):\n",
    "        super().__init__()\n",
    "        self.token_embedding = nn.Embedding(\n",
    "            num_embeddings=cfg.d_vocab,\n",
    "            embedding_dim=cfg.d_model,\n",
    "        )\n",
    "        self.pos_embedding = PosEmbed(cfg)\n",
    "        self.blocks = nn.ModuleList([\n",
    "            TransformerBlock(cfg)\n",
    "        ])\n",
    "        self.unemb = Unembed(cfg)\n",
    "    \n",
    "    def forward(self, input: Int[Tensor, \"b s\"]):\n",
    "        tok_emb = self.token_embedding(input)\n",
    "        pos_emb = self.pos_embedding(input)\n",
    "        resid = tok_emb + pos_emb\n",
    "        logits = self.blocks(resid)\n",
    "        probs = self.unemb(logits)\n",
    "        return probs "
   ]
  },
  {
   "cell_type": "code",
   "execution_count": 74,
   "id": "861bc821",
   "metadata": {},
   "outputs": [],
   "source": [
    "toks = t.tensor([\n",
    "    [3, 8, 4]\n",
    "], dtype=t.int)"
   ]
  },
  {
   "cell_type": "code",
   "execution_count": 75,
   "id": "a8c3f5f5",
   "metadata": {},
   "outputs": [],
   "source": [
    "model = FullTransformer(cfg=cfg)"
   ]
  },
  {
   "cell_type": "code",
   "execution_count": 76,
   "id": "2c00661b",
   "metadata": {},
   "outputs": [
    {
     "ename": "TypeError",
     "evalue": "'Embedding' object is not subscriptable",
     "output_type": "error",
     "traceback": [
      "\u001b[31m---------------------------------------------------------------------------\u001b[39m",
      "\u001b[31mTypeError\u001b[39m                                 Traceback (most recent call last)",
      "\u001b[36mCell\u001b[39m\u001b[36m \u001b[39m\u001b[32mIn[76]\u001b[39m\u001b[32m, line 1\u001b[39m\n\u001b[32m----> \u001b[39m\u001b[32m1\u001b[39m \u001b[43mmodel\u001b[49m\u001b[43m(\u001b[49m\u001b[43mtoks\u001b[49m\u001b[43m)\u001b[49m\n",
      "\u001b[36mFile \u001b[39m\u001b[32m~/work/interview/ml_algos/.venv/lib/python3.13/site-packages/torch/nn/modules/module.py:1739\u001b[39m, in \u001b[36mModule._wrapped_call_impl\u001b[39m\u001b[34m(self, *args, **kwargs)\u001b[39m\n\u001b[32m   1737\u001b[39m     \u001b[38;5;28;01mreturn\u001b[39;00m \u001b[38;5;28mself\u001b[39m._compiled_call_impl(*args, **kwargs)  \u001b[38;5;66;03m# type: ignore[misc]\u001b[39;00m\n\u001b[32m   1738\u001b[39m \u001b[38;5;28;01melse\u001b[39;00m:\n\u001b[32m-> \u001b[39m\u001b[32m1739\u001b[39m     \u001b[38;5;28;01mreturn\u001b[39;00m \u001b[38;5;28;43mself\u001b[39;49m\u001b[43m.\u001b[49m\u001b[43m_call_impl\u001b[49m\u001b[43m(\u001b[49m\u001b[43m*\u001b[49m\u001b[43margs\u001b[49m\u001b[43m,\u001b[49m\u001b[43m \u001b[49m\u001b[43m*\u001b[49m\u001b[43m*\u001b[49m\u001b[43mkwargs\u001b[49m\u001b[43m)\u001b[49m\n",
      "\u001b[36mFile \u001b[39m\u001b[32m~/work/interview/ml_algos/.venv/lib/python3.13/site-packages/torch/nn/modules/module.py:1750\u001b[39m, in \u001b[36mModule._call_impl\u001b[39m\u001b[34m(self, *args, **kwargs)\u001b[39m\n\u001b[32m   1745\u001b[39m \u001b[38;5;66;03m# If we don't have any hooks, we want to skip the rest of the logic in\u001b[39;00m\n\u001b[32m   1746\u001b[39m \u001b[38;5;66;03m# this function, and just call forward.\u001b[39;00m\n\u001b[32m   1747\u001b[39m \u001b[38;5;28;01mif\u001b[39;00m \u001b[38;5;129;01mnot\u001b[39;00m (\u001b[38;5;28mself\u001b[39m._backward_hooks \u001b[38;5;129;01mor\u001b[39;00m \u001b[38;5;28mself\u001b[39m._backward_pre_hooks \u001b[38;5;129;01mor\u001b[39;00m \u001b[38;5;28mself\u001b[39m._forward_hooks \u001b[38;5;129;01mor\u001b[39;00m \u001b[38;5;28mself\u001b[39m._forward_pre_hooks\n\u001b[32m   1748\u001b[39m         \u001b[38;5;129;01mor\u001b[39;00m _global_backward_pre_hooks \u001b[38;5;129;01mor\u001b[39;00m _global_backward_hooks\n\u001b[32m   1749\u001b[39m         \u001b[38;5;129;01mor\u001b[39;00m _global_forward_hooks \u001b[38;5;129;01mor\u001b[39;00m _global_forward_pre_hooks):\n\u001b[32m-> \u001b[39m\u001b[32m1750\u001b[39m     \u001b[38;5;28;01mreturn\u001b[39;00m \u001b[43mforward_call\u001b[49m\u001b[43m(\u001b[49m\u001b[43m*\u001b[49m\u001b[43margs\u001b[49m\u001b[43m,\u001b[49m\u001b[43m \u001b[49m\u001b[43m*\u001b[49m\u001b[43m*\u001b[49m\u001b[43mkwargs\u001b[49m\u001b[43m)\u001b[49m\n\u001b[32m   1752\u001b[39m result = \u001b[38;5;28;01mNone\u001b[39;00m\n\u001b[32m   1753\u001b[39m called_always_called_hooks = \u001b[38;5;28mset\u001b[39m()\n",
      "\u001b[36mCell\u001b[39m\u001b[36m \u001b[39m\u001b[32mIn[73]\u001b[39m\u001b[32m, line 16\u001b[39m, in \u001b[36mFullTransformer.forward\u001b[39m\u001b[34m(self, input)\u001b[39m\n\u001b[32m     14\u001b[39m \u001b[38;5;28;01mdef\u001b[39;00m\u001b[38;5;250m \u001b[39m\u001b[34mforward\u001b[39m(\u001b[38;5;28mself\u001b[39m, \u001b[38;5;28minput\u001b[39m: Int[Tensor, \u001b[33m\"\u001b[39m\u001b[33mb s\u001b[39m\u001b[33m\"\u001b[39m]):\n\u001b[32m     15\u001b[39m     tok_emb = \u001b[38;5;28mself\u001b[39m.token_embedding(\u001b[38;5;28minput\u001b[39m)\n\u001b[32m---> \u001b[39m\u001b[32m16\u001b[39m     pos_emb = \u001b[38;5;28;43mself\u001b[39;49m\u001b[43m.\u001b[49m\u001b[43mpos_embedding\u001b[49m\u001b[43m(\u001b[49m\u001b[38;5;28;43minput\u001b[39;49m\u001b[43m)\u001b[49m\n\u001b[32m     17\u001b[39m     resid = tok_emb + pos_emb\n\u001b[32m     18\u001b[39m     logits = \u001b[38;5;28mself\u001b[39m.blocks(resid)\n",
      "\u001b[36mFile \u001b[39m\u001b[32m~/work/interview/ml_algos/.venv/lib/python3.13/site-packages/torch/nn/modules/module.py:1739\u001b[39m, in \u001b[36mModule._wrapped_call_impl\u001b[39m\u001b[34m(self, *args, **kwargs)\u001b[39m\n\u001b[32m   1737\u001b[39m     \u001b[38;5;28;01mreturn\u001b[39;00m \u001b[38;5;28mself\u001b[39m._compiled_call_impl(*args, **kwargs)  \u001b[38;5;66;03m# type: ignore[misc]\u001b[39;00m\n\u001b[32m   1738\u001b[39m \u001b[38;5;28;01melse\u001b[39;00m:\n\u001b[32m-> \u001b[39m\u001b[32m1739\u001b[39m     \u001b[38;5;28;01mreturn\u001b[39;00m \u001b[38;5;28;43mself\u001b[39;49m\u001b[43m.\u001b[49m\u001b[43m_call_impl\u001b[49m\u001b[43m(\u001b[49m\u001b[43m*\u001b[49m\u001b[43margs\u001b[49m\u001b[43m,\u001b[49m\u001b[43m \u001b[49m\u001b[43m*\u001b[49m\u001b[43m*\u001b[49m\u001b[43mkwargs\u001b[49m\u001b[43m)\u001b[49m\n",
      "\u001b[36mFile \u001b[39m\u001b[32m~/work/interview/ml_algos/.venv/lib/python3.13/site-packages/torch/nn/modules/module.py:1750\u001b[39m, in \u001b[36mModule._call_impl\u001b[39m\u001b[34m(self, *args, **kwargs)\u001b[39m\n\u001b[32m   1745\u001b[39m \u001b[38;5;66;03m# If we don't have any hooks, we want to skip the rest of the logic in\u001b[39;00m\n\u001b[32m   1746\u001b[39m \u001b[38;5;66;03m# this function, and just call forward.\u001b[39;00m\n\u001b[32m   1747\u001b[39m \u001b[38;5;28;01mif\u001b[39;00m \u001b[38;5;129;01mnot\u001b[39;00m (\u001b[38;5;28mself\u001b[39m._backward_hooks \u001b[38;5;129;01mor\u001b[39;00m \u001b[38;5;28mself\u001b[39m._backward_pre_hooks \u001b[38;5;129;01mor\u001b[39;00m \u001b[38;5;28mself\u001b[39m._forward_hooks \u001b[38;5;129;01mor\u001b[39;00m \u001b[38;5;28mself\u001b[39m._forward_pre_hooks\n\u001b[32m   1748\u001b[39m         \u001b[38;5;129;01mor\u001b[39;00m _global_backward_pre_hooks \u001b[38;5;129;01mor\u001b[39;00m _global_backward_hooks\n\u001b[32m   1749\u001b[39m         \u001b[38;5;129;01mor\u001b[39;00m _global_forward_hooks \u001b[38;5;129;01mor\u001b[39;00m _global_forward_pre_hooks):\n\u001b[32m-> \u001b[39m\u001b[32m1750\u001b[39m     \u001b[38;5;28;01mreturn\u001b[39;00m \u001b[43mforward_call\u001b[49m\u001b[43m(\u001b[49m\u001b[43m*\u001b[49m\u001b[43margs\u001b[49m\u001b[43m,\u001b[49m\u001b[43m \u001b[49m\u001b[43m*\u001b[49m\u001b[43m*\u001b[49m\u001b[43mkwargs\u001b[49m\u001b[43m)\u001b[49m\n\u001b[32m   1752\u001b[39m result = \u001b[38;5;28;01mNone\u001b[39;00m\n\u001b[32m   1753\u001b[39m called_always_called_hooks = \u001b[38;5;28mset\u001b[39m()\n",
      "\u001b[36mCell\u001b[39m\u001b[36m \u001b[39m\u001b[32mIn[69]\u001b[39m\u001b[32m, line 12\u001b[39m, in \u001b[36mPosEmbed.forward\u001b[39m\u001b[34m(self, resid)\u001b[39m\n\u001b[32m     10\u001b[39m \u001b[38;5;28;01mdef\u001b[39;00m\u001b[38;5;250m \u001b[39m\u001b[34mforward\u001b[39m(\u001b[38;5;28mself\u001b[39m, resid: Int[Tensor, \u001b[33m\"\u001b[39m\u001b[33mbatch seq\u001b[39m\u001b[33m\"\u001b[39m]) -> Float[Tensor, \u001b[33m\"\u001b[39m\u001b[33mbatch seq d_model\u001b[39m\u001b[33m\"\u001b[39m]:\n\u001b[32m     11\u001b[39m     _, seq = resid.shape\n\u001b[32m---> \u001b[39m\u001b[32m12\u001b[39m     \u001b[38;5;28;01mreturn\u001b[39;00m \u001b[38;5;28;43mself\u001b[39;49m\u001b[43m.\u001b[49m\u001b[43mW_E\u001b[49m\u001b[43m[\u001b[49m\u001b[38;5;28;43;01mNone\u001b[39;49;00m\u001b[43m,\u001b[49m\u001b[43m \u001b[49m\u001b[43m:\u001b[49m\u001b[43mseq\u001b[49m\u001b[43m,\u001b[49m\u001b[43m \u001b[49m\u001b[43m:\u001b[49m\u001b[43m]\u001b[49m\n",
      "\u001b[31mTypeError\u001b[39m: 'Embedding' object is not subscriptable"
     ]
    }
   ],
   "source": [
    "model(toks)"
   ]
  },
  {
   "cell_type": "code",
   "execution_count": null,
   "id": "aad29bd1",
   "metadata": {},
   "outputs": [],
   "source": []
  },
  {
   "cell_type": "code",
   "execution_count": null,
   "id": "77f6ae60",
   "metadata": {},
   "outputs": [],
   "source": []
  }
 ],
 "metadata": {
  "kernelspec": {
   "display_name": ".venv",
   "language": "python",
   "name": "python3"
  },
  "language_info": {
   "codemirror_mode": {
    "name": "ipython",
    "version": 3
   },
   "file_extension": ".py",
   "mimetype": "text/x-python",
   "name": "python",
   "nbconvert_exporter": "python",
   "pygments_lexer": "ipython3",
   "version": "3.13.2"
  }
 },
 "nbformat": 4,
 "nbformat_minor": 5
}
