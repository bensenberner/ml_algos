{
 "cells": [
  {
   "cell_type": "code",
   "execution_count": 1,
   "id": "ef34335b",
   "metadata": {},
   "outputs": [],
   "source": [
    "from matplotlib import pyplot as plt\n",
    "import numpy as np"
   ]
  },
  {
   "cell_type": "code",
   "execution_count": 26,
   "id": "36b56bad",
   "metadata": {},
   "outputs": [],
   "source": [
    "X = np.random.random((100, 2))"
   ]
  },
  {
   "cell_type": "code",
   "execution_count": null,
   "id": "acacc64c",
   "metadata": {},
   "outputs": [],
   "source": [
    "def knn(X: np.ndarray, needles: np.ndarray, k: int):\n",
    "    \"\"\"\n",
    "    X: (m, d)\n",
    "    needle: (n,d)\n",
    "    find the k closest points in X to that needle\n",
    "    \n",
    "    ret: an (n, k, d) matrix representing the k closest points to needle\n",
    "    \"\"\"\n",
    "    # TODO: this is wrong\n",
    "    dists = abs(X[:, None, :] - needles).sum(-1)\n",
    "    closest_idxes = np.argsort(dists, axis=1)\n",
    "    k_closest_idxes = closest_idxes[:k, :]\n",
    "    print(k_closest_idxes)\n",
    "    return X[k_closest_idxes, :].transpose((1, 0, 2))"
   ]
  },
  {
   "cell_type": "code",
   "execution_count": null,
   "id": "c8c0ce64",
   "metadata": {},
   "outputs": [
    {
     "name": "stdout",
     "output_type": "stream",
     "text": [
      "[[0 2 1]\n",
      " [0 2 1]\n",
      " [2 0 1]\n",
      " [0 1 2]]\n",
      "(3, 4, 2)\n"
     ]
    }
   ],
   "source": [
    "needles = np.array(\n",
    "    [\n",
    "        [0.4, 0.6],\n",
    "        [0.2, 0.8],\n",
    "        [0.3, 0.5]\n",
    "    ]\n",
    ")\n",
    "closest = knn(X, needles, 4)\n",
    "closest_reshaped = closest.reshape(-1, closest.shape[-1])"
   ]
  },
  {
   "cell_type": "code",
   "execution_count": 36,
   "id": "7e5d62ff",
   "metadata": {},
   "outputs": [
    {
     "data": {
      "text/plain": [
       "array([[[0.90649426, 0.52881865],\n",
       "        [0.90649426, 0.52881865],\n",
       "        [0.19337169, 0.43178411],\n",
       "        [0.90649426, 0.52881865]],\n",
       "\n",
       "       [[0.19337169, 0.43178411],\n",
       "        [0.19337169, 0.43178411],\n",
       "        [0.90649426, 0.52881865],\n",
       "        [0.99613552, 0.36574906]],\n",
       "\n",
       "       [[0.99613552, 0.36574906],\n",
       "        [0.99613552, 0.36574906],\n",
       "        [0.99613552, 0.36574906],\n",
       "        [0.19337169, 0.43178411]]])"
      ]
     },
     "execution_count": 36,
     "metadata": {},
     "output_type": "execute_result"
    }
   ],
   "source": [
    "closest"
   ]
  },
  {
   "cell_type": "code",
   "execution_count": 37,
   "id": "a0cc7d2b",
   "metadata": {},
   "outputs": [
    {
     "data": {
      "text/plain": [
       "array([[0.90649426, 0.52881865],\n",
       "       [0.90649426, 0.52881865],\n",
       "       [0.19337169, 0.43178411],\n",
       "       [0.90649426, 0.52881865],\n",
       "       [0.19337169, 0.43178411],\n",
       "       [0.19337169, 0.43178411],\n",
       "       [0.90649426, 0.52881865],\n",
       "       [0.99613552, 0.36574906],\n",
       "       [0.99613552, 0.36574906],\n",
       "       [0.99613552, 0.36574906],\n",
       "       [0.99613552, 0.36574906],\n",
       "       [0.19337169, 0.43178411]])"
      ]
     },
     "execution_count": 37,
     "metadata": {},
     "output_type": "execute_result"
    }
   ],
   "source": [
    "closest_reshaped"
   ]
  },
  {
   "cell_type": "code",
   "execution_count": 30,
   "id": "62513fc7",
   "metadata": {},
   "outputs": [
    {
     "data": {
      "text/plain": [
       "<matplotlib.collections.PathCollection at 0x1327f1d10>"
      ]
     },
     "execution_count": 30,
     "metadata": {},
     "output_type": "execute_result"
    },
    {
     "data": {
      "image/png": "[encoded data removed]",
      "text/plain": [
       "<Figure size 640x480 with 1 Axes>"
      ]
     },
     "metadata": {},
     "output_type": "display_data"
    }
   ],
   "source": [
    "plt.scatter(X[:, 0], X[:, 1], color='black')\n",
    "plt.scatter(closest_reshaped[:, 0], closest_reshaped[:, 1], color='red')\n",
    "plt.scatter(needles[:, 0], needles[:, 1], color='blue')"
   ]
  },
  {
   "cell_type": "code",
   "execution_count": null,
   "id": "b2f9ee5b",
   "metadata": {},
   "outputs": [],
   "source": []
  }
 ],
 "metadata": {
  "kernelspec": {
   "display_name": ".venv",
   "language": "python",
   "name": "python3"
  },
  "language_info": {
   "codemirror_mode": {
    "name": "ipython",
    "version": 3
   },
   "file_extension": ".py",
   "mimetype": "text/x-python",
   "name": "python",
   "nbconvert_exporter": "python",
   "pygments_lexer": "ipython3",
   "version": "3.13.2"
  }
 },
 "nbformat": 4,
 "nbformat_minor": 5
}
